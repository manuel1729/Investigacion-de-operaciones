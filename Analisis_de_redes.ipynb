{
  "nbformat": 4,
  "nbformat_minor": 0,
  "metadata": {
    "colab": {
      "provenance": [],
      "authorship_tag": "ABX9TyMpwd7z82tn3EKALIIyyrBn",
      "include_colab_link": true
    },
    "kernelspec": {
      "name": "python3",
      "display_name": "Python 3"
    },
    "language_info": {
      "name": "python"
    }
  },
  "cells": [
    {
      "cell_type": "markdown",
      "metadata": {
        "id": "view-in-github",
        "colab_type": "text"
      },
      "source": [
        "<a href=\"https://colab.research.google.com/github/manuel1729/Investigacion-de-operaciones/blob/main/Analisis_de_redes.ipynb\" target=\"_parent\"><img src=\"https://colab.research.google.com/assets/colab-badge.svg\" alt=\"Open In Colab\"/></a>"
      ]
    },
    {
      "cell_type": "markdown",
      "source": [
        "Análisis de redes en python"
      ],
      "metadata": {
        "id": "wxAyZWWddUh0"
      }
    },
    {
      "cell_type": "markdown",
      "source": [
        "Importamos la librería networkx para usar nx"
      ],
      "metadata": {
        "id": "R51k2UBVdm04"
      }
    },
    {
      "cell_type": "code",
      "source": [
        "import networkx as nx"
      ],
      "metadata": {
        "id": "LmEPxTcUZbvF"
      },
      "execution_count": null,
      "outputs": []
    },
    {
      "cell_type": "markdown",
      "source": [
        "Creamos el grafo dirigido"
      ],
      "metadata": {
        "id": "hOcI24ehdtpC"
      }
    },
    {
      "cell_type": "code",
      "source": [
        "G=nx.DiGraph() #grafo dirigido"
      ],
      "metadata": {
        "id": "ml6JFWyjZl9k"
      },
      "execution_count": null,
      "outputs": []
    },
    {
      "cell_type": "markdown",
      "source": [
        "Creamos con add_edge(\"\",\"\",capacity=?) para unir los nodos y arcos"
      ],
      "metadata": {
        "id": "Bimy7cCcdxid"
      }
    },
    {
      "cell_type": "code",
      "source": [
        "G.add_edge(\"A\",\"B\",capacity=2)\n",
        "G.add_edge(\"A\",\"C\",capacity=2)\n",
        "G.add_edge(\"B\",\"C\",capacity=2)\n",
        "G.add_edge(\"B\",\"D\",capacity=2)\n",
        "G.add_edge(\"C\",\"D\",capacity=2)"
      ],
      "metadata": {
        "id": "2IqXFskuZzTw"
      },
      "execution_count": null,
      "outputs": []
    },
    {
      "cell_type": "markdown",
      "source": [
        "Al imprimir G nos muestra que es una clase y creamos un gráfico guardado en la memoria"
      ],
      "metadata": {
        "id": "TpPtksOkeQZw"
      }
    },
    {
      "cell_type": "code",
      "source": [
        "G"
      ],
      "metadata": {
        "colab": {
          "base_uri": "https://localhost:8080/"
        },
        "id": "ly2sBMdGeNRi",
        "outputId": "a51ca423-917f-42ab-b2e3-aeccc6d7e6b6"
      },
      "execution_count": null,
      "outputs": [
        {
          "output_type": "execute_result",
          "data": {
            "text/plain": [
              "<networkx.classes.digraph.DiGraph at 0x7a9dbcf6be60>"
            ]
          },
          "metadata": {},
          "execution_count": 11
        }
      ]
    },
    {
      "cell_type": "markdown",
      "source": [
        "Agregamos el dibujo con draw_networkx(G)"
      ],
      "metadata": {
        "id": "eKNx3KuoeDrn"
      }
    },
    {
      "cell_type": "code",
      "source": [
        "nx.draw_networkx(G)"
      ],
      "metadata": {
        "colab": {
          "base_uri": "https://localhost:8080/",
          "height": 261
        },
        "id": "iiGV2vDgcWEN",
        "outputId": "f45d4f3e-651b-45ec-cac3-f4de3740b741"
      },
      "execution_count": null,
      "outputs": [
        {
          "output_type": "display_data",
          "data": {
            "text/plain": [
              "<Figure size 640x480 with 1 Axes>"
            ],
            "image/png": "[encoded data removed]"
          },
          "metadata": {}
        }
      ]
    },
    {
      "cell_type": "markdown",
      "source": [
        "Imprimimos los nodos de nuestra red nx.nodes"
      ],
      "metadata": {
        "id": "M4NcbOVQedIS"
      }
    },
    {
      "cell_type": "code",
      "source": [
        "nx.nodes(G)"
      ],
      "metadata": {
        "colab": {
          "base_uri": "https://localhost:8080/"
        },
        "id": "gFsx9oRgcpxo",
        "outputId": "94ec4636-a2a7-4ec6-f3af-46cec96ef4da"
      },
      "execution_count": null,
      "outputs": [
        {
          "output_type": "execute_result",
          "data": {
            "text/plain": [
              "NodeView(('A', 'B', 'C', 'D'))"
            ]
          },
          "metadata": {},
          "execution_count": 8
        }
      ]
    },
    {
      "cell_type": "markdown",
      "source": [
        "Imprimimos los arcos con nx.edges(G)"
      ],
      "metadata": {
        "id": "8-9D-U13eh09"
      }
    },
    {
      "cell_type": "code",
      "source": [
        "nx.edges(G)"
      ],
      "metadata": {
        "colab": {
          "base_uri": "https://localhost:8080/"
        },
        "id": "QyFGODSodC3F",
        "outputId": "58cf7d9d-43e4-40eb-8d54-102a45db8222"
      },
      "execution_count": null,
      "outputs": [
        {
          "output_type": "execute_result",
          "data": {
            "text/plain": [
              "OutEdgeView([('A', 'B'), ('A', 'C'), ('B', 'C'), ('B', 'D'), ('C', 'D')])"
            ]
          },
          "metadata": {},
          "execution_count": 9
        }
      ]
    },
    {
      "cell_type": "markdown",
      "source": [
        "Imprimimos el número de nodos con nx.numb"
      ],
      "metadata": {
        "id": "q_TpAcmoeuhF"
      }
    },
    {
      "cell_type": "code",
      "source": [
        "nx.number_of_nodes(G)"
      ],
      "metadata": {
        "colab": {
          "base_uri": "https://localhost:8080/"
        },
        "id": "Npbg9pfSdJC_",
        "outputId": "eb10eff2-ff02-4f30-a018-347d3b8f1459"
      },
      "execution_count": null,
      "outputs": [
        {
          "output_type": "execute_result",
          "data": {
            "text/plain": [
              "4"
            ]
          },
          "metadata": {},
          "execution_count": 10
        }
      ]
    }
  ]
}